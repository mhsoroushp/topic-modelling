{
 "cells": [
  {
   "cell_type": "code",
   "execution_count": 31,
   "metadata": {},
   "outputs": [],
   "source": [
    "import pickle\n",
    "import seaborn as sns\n",
    "import matplotlib.pyplot as plt\n",
    "import pandas as pd\n",
    "import numpy as np"
   ]
  },
  {
   "cell_type": "code",
   "execution_count": 32,
   "metadata": {},
   "outputs": [],
   "source": [
    "paths = {\n",
    "    \"N_dims\": \"C:/Users/arik_/Documents/Dokumente/Job_Clausthal/TNTM/TNTM_Revision_TNNLS/TNTM/Ablations/Results/Number_of_Dimensions/results.pkl\",\n",
    "    \"N_HiddenUnits\": \"C:/Users/arik_/Documents/Dokumente/Job_Clausthal/TNTM/TNTM_Revision_TNNLS/TNTM/Ablations/Results/Number_of_HiddenUnits/results.pickle\",\n",
    "    \"N_Layers\": \"C:/Users/arik_/Documents/Dokumente/Job_Clausthal/TNTM/TNTM_Revision_TNNLS/TNTM/Ablations/Results/Number_of_Layers/results.pickle\",\n",
    "    \"N_topics\": \"C:/Users/arik_/Documents/Dokumente/Job_Clausthal/TNTM/TNTM_Revision_TNNLS/TNTM/Ablations/Results/Number_of_topics/results.pickle\"\n",
    "}"
   ]
  },
  {
   "cell_type": "code",
   "execution_count": 33,
   "metadata": {},
   "outputs": [],
   "source": [
    "data_dict = {}\n",
    "\n",
    "for key, path in paths.items():\n",
    "    with open(path, \"rb\") as f:\n",
    "        data_dict[key] = pickle.load(f)"
   ]
  },
  {
   "cell_type": "code",
   "execution_count": 34,
   "metadata": {},
   "outputs": [
    {
     "data": {
      "text/plain": [
       "dict_keys(['N_dims', 'N_HiddenUnits', 'N_Layers', 'N_topics'])"
      ]
     },
     "execution_count": 34,
     "metadata": {},
     "output_type": "execute_result"
    }
   ],
   "source": [
    "data_dict.keys()"
   ]
  },
  {
   "cell_type": "code",
   "execution_count": 38,
   "metadata": {},
   "outputs": [
    {
     "name": "stdout",
     "output_type": "stream",
     "text": [
      "{2: {'NPMI': -0.07697875739485013, 'WE_CO_PW': 0.045564635581440395, 'Embedding_Coherence': 0.3436455865204334, 'WESS': 0.4551514871461536, 'Topic Diversity': 0.999, 'Perplexity': 159.28234400000002}, 5: {'NPMI': -0.034287349408878634, 'WE_CO_PW': 0.08145017532507579, 'Embedding_Coherence': 0.3620213353633881, 'WESS': 0.4376902272511717, 'Topic Diversity': 0.999, 'Perplexity': 66.5923012}, 11: {'NPMI': -0.01922270587547958, 'WE_CO_PW': 0.06501824756463369, 'Embedding_Coherence': 0.3710805459320545, 'WESS': 0.4219075241534577, 'Topic Diversity': 1.0, 'Perplexity': -819.2087519999999}, 17: {'NPMI': -0.021880765762717993, 'WE_CO_PW': 0.07455488693714143, 'Embedding_Coherence': 0.3709986801445484, 'WESS': 0.4203845987204061, 'Topic Diversity': 1.0, 'Perplexity': -1942.98738}, 32: {'NPMI': -0.11323306467413494, 'WE_CO_PW': 0.03882943093776703, 'Embedding_Coherence': 0.28746115453541277, 'WESS': 0.03, 'Topic Diversity': 0.993, 'Perplexity': -4587.5843}, 256: {'NPMI': -0.14295170507741392, 'WE_CO_PW': 0.02902421240011851, 'Embedding_Coherence': 0.255654667019844, 'WESS': 0.03, 'Topic Diversity': 0.8350000000000002, 'Perplexity': -45283.4374}, 768: {'NPMI': -0.16109087604393096, 'WE_CO_PW': 0.02076798935731252, 'Embedding_Coherence': 0.25304480493068693, 'WESS': 0.03, 'Topic Diversity': 0.73, 'Perplexity': -135459.526}, 24: {'NPMI': -0.03074091323808247, 'WE_CO_PW': 0.06520248375998602, 'Embedding_Coherence': 0.3659537547826767, 'WESS': 0.3990379790280135, 'Topic Diversity': 1.0, 'Perplexity': -3245.69294}, 64: {'NPMI': -0.12211687892827416, 'WE_CO_PW': 0.03162191973792182, 'Embedding_Coherence': 0.2634127447009087, 'WESS': 0.03, 'Topic Diversity': 0.9380000000000001, 'Perplexity': -10285.645}, 128: {'NPMI': -0.14757491210509996, 'WE_CO_PW': 0.02866399138503604, 'Embedding_Coherence': 0.269120973944664, 'WESS': 0.03, 'Topic Diversity': 0.8629999999999999, 'Perplexity': -21281.3022}}\n",
      "{16: {'NPMI': -0.09827624762924898, 'WE_CO_PW': 0.06612333096398247, 'Embedding_Coherence': 0.30371954217553143, 'WESS': 0.33898347720952016, 'Topic Diversity': 1.0, 'Perplexity': -815.6394775390625}, 32: {'NPMI': -0.0658150341784928, 'WE_CO_PW': 0.061416223473019074, 'Embedding_Coherence': 0.32936457052826884, 'WESS': 0.38268310201346634, 'Topic Diversity': 1.0, 'Perplexity': -802.4894409179688}, 64: {'NPMI': -0.04329760880425433, 'WE_CO_PW': 0.0682412329117457, 'Embedding_Coherence': 0.3577415056526661, 'WESS': 0.40830924006812197, 'Topic Diversity': 1.0, 'Perplexity': -825.95771484375}, 128: {'NPMI': -0.040259841503760746, 'WE_CO_PW': 0.06163794238037533, 'Embedding_Coherence': 0.36469229742884635, 'WESS': 0.4110678889976855, 'Topic Diversity': 1.0, 'Perplexity': -804.60439453125}, 512: {'NPMI': -0.03876397677314807, 'WE_CO_PW': 0.05513528305954403, 'Embedding_Coherence': 0.3569920580089092, 'WESS': 0.41218964853043233, 'Topic Diversity': 1.0, 'Perplexity': -820.0714721679688}, 1024: {'NPMI': -0.03869807791243331, 'WE_CO_PW': 0.06803058769967822, 'Embedding_Coherence': 0.3587354382872582, 'WESS': 0.4236783115547465, 'Topic Diversity': 1.0, 'Perplexity': -839.1355346679687}, 2048: {'NPMI': -0.03294952968679011, 'WE_CO_PW': 0.07468521394994523, 'Embedding_Coherence': 0.3723405195772648, 'WESS': 0.40684909609423076, 'Topic Diversity': 1.0, 'Perplexity': -852.863037109375}, 4048: {'NPMI': -0.08995110970627032, 'WE_CO_PW': 0.056934507436222505, 'Embedding_Coherence': 0.3232586821913719, 'WESS': 0.3719197465306597, 'Topic Diversity': 1.0, 'Perplexity': -830.75869140625}}\n",
      "{1: {'NPMI': -0.09571879877493965, 'WE_CO_PW': 0.06892603858311973, 'Embedding_Coherence': 0.3011152653396129, 'WESS': 0.35438173743734686, 'Topic Diversity': 1.0, 'Perplexity': -834.42392578125}, 2: {'NPMI': -0.02467391223748893, 'WE_CO_PW': 0.06192618640926149, 'Embedding_Coherence': 0.3736307103559375, 'WESS': 0.41760134767351076, 'Topic Diversity': 0.999, 'Perplexity': -825.75810546875}, 3: {'NPMI': -0.028680342176900686, 'WE_CO_PW': 0.07564255320363575, 'Embedding_Coherence': 0.36244953777641065, 'WESS': 0.4241859122422841, 'Topic Diversity': 1.0, 'Perplexity': -820.6467102050781}, 5: {'NPMI': -0.02402329458213398, 'WE_CO_PW': 0.06070037317276002, 'Embedding_Coherence': 0.3725631102919579, 'WESS': 0.4175850759074698, 'Topic Diversity': 1.0, 'Perplexity': -835.6253662109375}, 10: {'NPMI': -0.0354696855726965, 'WE_CO_PW': 0.0711840595404307, 'Embedding_Coherence': 0.36081198014318944, 'WESS': 0.4113118098998463, 'Topic Diversity': 1.0, 'Perplexity': -831.5572387695313}, 20: {'NPMI': -0.05915795340314831, 'WE_CO_PW': 0.06602048941453299, 'Embedding_Coherence': 0.33574837423861026, 'WESS': 0.38549757321716466, 'Topic Diversity': 1.0, 'Perplexity': -824.3980590820313}}\n",
      "{5: {'NPMI': -0.0447032448346821, 'WE_CO_PW': 0.06548725748062133, 'Embedding_Coherence': 0.33428823411464686, 'WESS': 0.43634611097578, 'Topic Diversity': 1.0, 'Perplexity': -653.5628784179687}, 10: {'NPMI': -0.05367606598896022, 'WE_CO_PW': 0.06431337886386448, 'Embedding_Coherence': 0.3482693153619766, 'WESS': 0.43483770429504653, 'Topic Diversity': 1.0, 'Perplexity': -738.1699584960937}, 20: {'NPMI': -0.05617032742878654, 'WE_CO_PW': 0.061496308896276684, 'Embedding_Coherence': 0.362335417419672, 'WESS': 0.38439635256580856, 'Topic Diversity': 0.999, 'Perplexity': -839.0142944335937}, 30: {'NPMI': -0.047876609776494106, 'WE_CO_PW': 0.07011382908291287, 'Embedding_Coherence': 0.3673484051724275, 'WESS': 0.3600749980632568, 'Topic Diversity': 1.0, 'Perplexity': -889.7198364257813}, 50: {'NPMI': -0.03220125185568769, 'WE_CO_PW': 0.08091113470925224, 'Embedding_Coherence': 0.36155645698308947, 'WESS': 0.3515118379429691, 'Topic Diversity': 0.9912000000000001, 'Perplexity': -1000.7589599609375}, 75: {'NPMI': -0.043400425045942825, 'WE_CO_PW': 0.0814401102701823, 'Embedding_Coherence': 0.37906870293617245, 'WESS': 0.33681762147848027, 'Topic Diversity': 0.9642666666666667, 'Perplexity': -1112.8971435546875}, 100: {'NPMI': -0.04934904095173844, 'WE_CO_PW': 0.07872458049721189, 'Embedding_Coherence': 0.38221277996897696, 'WESS': 0.3322695736828643, 'Topic Diversity': 0.9532, 'Perplexity': -1136.95673828125}, 200: {'NPMI': -0.0862406653123402, 'WE_CO_PW': 0.06981623246404857, 'Embedding_Coherence': 0.3790237624272704, 'WESS': 0.29341596190860747, 'Topic Diversity': 0.8744, 'Perplexity': -1247.88046875}, 300: {'NPMI': -0.10994798799511604, 'WE_CO_PW': 0.06131062467539752, 'Embedding_Coherence': 0.3392206621865431, 'WESS': 0.2715297105883584, 'Topic Diversity': 0.7192000000000001, 'Perplexity': -1437.6178466796875}, 500: {'NPMI': -0.13712005126485374, 'WE_CO_PW': 0.047283328362041036, 'Embedding_Coherence': 0.3147825887709856, 'WESS': 0.24546624816854865, 'Topic Diversity': 0.52204, 'Perplexity': -1548.844580078125}}\n"
     ]
    }
   ],
   "source": [
    "\n",
    "\n",
    "result = {}\n",
    "\n",
    "for key, data in data_dict.items():\n",
    "    key_out = key\n",
    "    data2 = data_dict[key]\n",
    "\n",
    "    keys2 = data2.keys()\n",
    "\n",
    "    # compute means per keys2 and store in result\n",
    "\n",
    "    mean_per_key2_dict = {}\n",
    "    for key2 in keys2:\n",
    "        data3 = data2[key2]\n",
    "\n",
    "        keys3 = data3[0].keys()\n",
    "\n",
    "        mean_dict = {}\n",
    "\n",
    "        for key in keys3:\n",
    "            mean_dict[key] = []\n",
    "\n",
    "        for elem in data3:\n",
    "            for key in keys3:\n",
    "                mean_dict[key].append(elem[key])\n",
    "\n",
    "        for key in keys3:\n",
    "            mean_dict[key] = sum(mean_dict[key]) / len(mean_dict[key])\n",
    "\n",
    "        mean_per_key2_dict[key2] = mean_dict\n",
    "\n",
    "    print(mean_per_key2_dict)\n",
    "\n",
    "    std_of_mean_per_key = {}\n",
    "\n",
    "    list_of_mean_per_key = {}\n",
    "\n",
    "    for key2, mean_dict in mean_per_key2_dict.items():\n",
    "        for key, mean in mean_dict.items():\n",
    "            if key not in list_of_mean_per_key:\n",
    "                list_of_mean_per_key[key] = []\n",
    "            list_of_mean_per_key[key].append(mean)\n",
    "\n",
    "\n",
    "    for key4, list_of_means in list_of_mean_per_key.items():\n",
    "        std_of_mean_per_key[key4] = np.std(list_of_means)\n",
    "\n",
    "\n",
    "    result[key_out] = std_of_mean_per_key\n",
    "    \n",
    "\n",
    "\n",
    "\n",
    "\n",
    "        \n",
    "\n",
    "            \n",
    "\n"
   ]
  },
  {
   "cell_type": "code",
   "execution_count": 40,
   "metadata": {},
   "outputs": [
    {
     "data": {
      "text/plain": [
       "{'N_dims': {'NPMI': 0.05393435769211721,\n",
       "  'WE_CO_PW': 0.020599489625381752,\n",
       "  'Embedding_Coherence': 0.0497873362307554,\n",
       "  'WESS': 0.19885974985661536,\n",
       "  'Topic Diversity': 0.09024638496914987,\n",
       "  'Perplexity': 40044.97643475891},\n",
       " 'N_HiddenUnits': {'NPMI': 0.023909094402913646,\n",
       "  'WE_CO_PW': 0.006058778918536715,\n",
       "  'Embedding_Coherence': 0.02248744076141257,\n",
       "  'WESS': 0.026252538520389352,\n",
       "  'Topic Diversity': 0.0,\n",
       "  'Perplexity': 15.952540470249817},\n",
       " 'N_Layers': {'NPMI': 0.02576273458402341,\n",
       "  'WE_CO_PW': 0.00518552903068298,\n",
       "  'Embedding_Coherence': 0.025578524615261,\n",
       "  'WESS': 0.02451090309156092,\n",
       "  'Topic Diversity': 0.0003726779962499653,\n",
       "  'Perplexity': 5.490862774669676},\n",
       " 'N_topics': {'NPMI': 0.03218693263765205,\n",
       "  'WE_CO_PW': 0.010030794664905326,\n",
       "  'Embedding_Coherence': 0.021104930065908398,\n",
       "  'WESS': 0.06035753893364545,\n",
       "  'Topic Diversity': 0.1520599638212943,\n",
       "  'Perplexity': 278.51141185619804}}"
      ]
     },
     "execution_count": 40,
     "metadata": {},
     "output_type": "execute_result"
    }
   ],
   "source": [
    "result"
   ]
  },
  {
   "cell_type": "code",
   "execution_count": 43,
   "metadata": {},
   "outputs": [
    {
     "data": {
      "text/plain": [
       "{'NPMI': 0.03394827982917658,\n",
       " 'WE_CO_PW': 0.010468648059876694,\n",
       " 'Embedding_Coherence': 0.029739557918334342,\n",
       " 'WESS': 0.07749518260055277,\n",
       " 'Topic Diversity': 0.06066975669667353,\n",
       " 'Perplexity': 10086.232812465007}"
      ]
     },
     "execution_count": 43,
     "metadata": {},
     "output_type": "execute_result"
    }
   ],
   "source": [
    "result_mean = {key: 0 for key in result[\"N_dims\"].keys()}\n",
    "\n",
    "for key, value in result.items():\n",
    "    for key2, value2 in value.items():\n",
    "        result_mean[key2] += value2\n",
    "    \n",
    "for key, value in result_mean.items():\n",
    "    result_mean[key] = value / len(result.keys())\n",
    "\n",
    "\n",
    "# mean of standard deviation of means\n",
    "result_mean"
   ]
  },
  {
   "cell_type": "code",
   "execution_count": 49,
   "metadata": {},
   "outputs": [],
   "source": [
    "# use spearmanr\n",
    "from scipy.stats import spearmanr"
   ]
  },
  {
   "cell_type": "code",
   "execution_count": 50,
   "metadata": {},
   "outputs": [],
   "source": [
    "# get correlation of embedding coherence with perplexity\n",
    "\n",
    "corr_per_key = {}\n",
    "for key, data in data_dict.items():\n",
    "    key_out = key\n",
    "    data2 = data_dict[key]\n",
    "\n",
    "    keys2 = data2.keys()\n",
    "\n",
    "    embedding_coh_flat = []\n",
    "    perplexity_flat = []\n",
    "\n",
    "    for key2 in keys2:\n",
    "        data3 = data2[key2]\n",
    "\n",
    "        for elem in data3:\n",
    "            embedding_coh_flat.append(elem[\"WE_CO_PW\"])\n",
    "            perplexity_flat.append(elem[\"Perplexity\"])\n",
    "\n",
    "    corr_per_key[key_out] = spearmanr(embedding_coh_flat, perplexity_flat)"
   ]
  },
  {
   "cell_type": "code",
   "execution_count": 51,
   "metadata": {},
   "outputs": [
    {
     "data": {
      "text/plain": [
       "{'N_dims': SpearmanrResult(correlation=0.6961344537815125, pvalue=1.9904763771348435e-08),\n",
       " 'N_HiddenUnits': SpearmanrResult(correlation=-0.040150093808630404, pvalue=0.8056989312424007),\n",
       " 'N_Layers': SpearmanrResult(correlation=0.012392331203111978, pvalue=0.9251291006742705),\n",
       " 'N_topics': SpearmanrResult(correlation=0.09733493397358943, pvalue=0.5012951863680488)}"
      ]
     },
     "execution_count": 51,
     "metadata": {},
     "output_type": "execute_result"
    }
   ],
   "source": [
    "corr_per_key"
   ]
  },
  {
   "cell_type": "code",
   "execution_count": null,
   "metadata": {},
   "outputs": [],
   "source": []
  }
 ],
 "metadata": {
  "kernelspec": {
   "display_name": "TLDA",
   "language": "python",
   "name": "python3"
  },
  "language_info": {
   "codemirror_mode": {
    "name": "ipython",
    "version": 3
   },
   "file_extension": ".py",
   "mimetype": "text/x-python",
   "name": "python",
   "nbconvert_exporter": "python",
   "pygments_lexer": "ipython3",
   "version": "3.9.13"
  }
 },
 "nbformat": 4,
 "nbformat_minor": 2
}
