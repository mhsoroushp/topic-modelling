{
 "cells": [
  {
   "cell_type": "code",
   "execution_count": 1,
   "metadata": {},
   "outputs": [],
   "source": [
    "%load_ext autoreload\n",
    "%autoreload 2"
   ]
  },
  {
   "cell_type": "code",
   "execution_count": 4,
   "metadata": {},
   "outputs": [
    {
     "name": "stdout",
     "output_type": "stream",
     "text": [
      "c:\\Users\\arik_\\Documents\\Dokumente\\Job_Clausthal\\TNTM\\TNTM_Revision_TNNLS\n"
     ]
    }
   ],
   "source": [
    "%cd .. \n",
    "%cd .."
   ]
  },
  {
   "cell_type": "code",
   "execution_count": 2,
   "metadata": {},
   "outputs": [],
   "source": [
    "import torch\n",
    "import pickle\n"
   ]
  },
  {
   "cell_type": "code",
   "execution_count": 6,
   "metadata": {},
   "outputs": [],
   "source": [
    "from TNTM.Benchmark.TopMost2OctisAdapter import TopMost2OctisAdapter\n",
    "\n",
    "from topmost.models import ProdLDA"
   ]
  },
  {
   "cell_type": "code",
   "execution_count": 7,
   "metadata": {},
   "outputs": [],
   "source": [
    "\n",
    "\n",
    "#with open(\"C:\\\\Users\\\\arik_\\\\\\Documents\\\\Dokumente\\\\Job_Clausthal\\\\TNTM\\\\TNTM_Revision_TNNLS\\\\TNTM\\\\Data\\\\DataOctis2\\\\octis_dataset_20ng.pickle\", \"rb\") as file:\n",
    "#    bow_data = pickle.load(file)\n",
    "\n",
    "with open(\"C:\\\\Users\\\\arik_\\\\Documents\\\\Dokumente\\\\Job_Clausthal\\\\TNTM\\\\TNTM_Revision_TNNLS\\\\TNTM\\Data\\DataOctis2\\\\octis_dataset_20ng.pickle\", \"rb\") as file:\n",
    "    octis_dataset = pickle.load(file)\n",
    "\n"
   ]
  },
  {
   "cell_type": "code",
   "execution_count": 21,
   "metadata": {},
   "outputs": [
    {
     "name": "stderr",
     "output_type": "stream",
     "text": [
      "100%|██████████| 3350/3350 [00:45<00:00, 73.80it/s]\n",
      "100%|██████████| 48018/48018 [12:04<00:00, 66.27it/s]\n"
     ]
    }
   ],
   "source": [
    "from Code.Evaluate.Metrics import score_all, get_tw_embeddings\n",
    "\n",
    "\n",
    "with open(\"C:\\\\Users\\\\arik_\\\\Documents\\\\Dokumente\\\\Job_Clausthal\\\\TNTM\\\\TNTM_Revision_TNNLS\\\\TNTM\\Data\\DataOctis\\\\cleaned_embedding_df_20ng_BERT.pickle\", 'rb') as f:\n",
    "    embedding_df = pickle.load(f)\n"
   ]
  },
  {
   "cell_type": "code",
   "execution_count": 22,
   "metadata": {},
   "outputs": [],
   "source": [
    "corpus = octis_dataset.get_corpus()\n",
    "vocab = octis_dataset.get_vocabulary()"
   ]
  },
  {
   "cell_type": "code",
   "execution_count": 23,
   "metadata": {},
   "outputs": [
    {
     "data": {
      "text/plain": [
       "(18846, 3350)"
      ]
     },
     "execution_count": 23,
     "metadata": {},
     "output_type": "execute_result"
    }
   ],
   "source": [
    "len(corpus), len(vocab)"
   ]
  },
  {
   "cell_type": "code",
   "execution_count": 24,
   "metadata": {},
   "outputs": [],
   "source": [
    "corpus_red = corpus[:100]\n",
    "vocab_red = [word for doc in corpus_red for word in doc]\n",
    "vocab_red = list(set(vocab_red))"
   ]
  },
  {
   "cell_type": "code",
   "execution_count": 25,
   "metadata": {},
   "outputs": [],
   "source": [
    "octis_dataset._corpus = corpus_red\n",
    "octis_dataset._vocabulary = vocab_red"
   ]
  },
  {
   "cell_type": "code",
   "execution_count": 26,
   "metadata": {},
   "outputs": [],
   "source": [
    "def data2params_prodlda(corpus, vocab):\n",
    "    return {\n",
    "        \"vocab_size\": len(vocab),\n",
    "    }\n",
    "\n"
   ]
  },
  {
   "cell_type": "code",
   "execution_count": 27,
   "metadata": {},
   "outputs": [],
   "source": [
    "model = TopMost2OctisAdapter(\n",
    "    model_topmost = ProdLDA,\n",
    "    model_kwargs= {\n",
    "        \"num_topics\": 10\n",
    "    },\n",
    "    data2_additional_kwargs = data2params_prodlda,\n",
    "    batch_size = 512\n",
    ")"
   ]
  },
  {
   "cell_type": "code",
   "execution_count": 28,
   "metadata": {},
   "outputs": [
    {
     "data": {
      "text/plain": [
       "2449"
      ]
     },
     "execution_count": 28,
     "metadata": {},
     "output_type": "execute_result"
    }
   ],
   "source": [
    "len(vocab_red)"
   ]
  },
  {
   "cell_type": "code",
   "execution_count": 29,
   "metadata": {},
   "outputs": [
    {
     "name": "stderr",
     "output_type": "stream",
     "text": [
      "loading train texts: 100%|██████████| 100/100 [00:00<00:00, 2741.03it/s]\n",
      "parsing texts: 100%|██████████| 100/100 [00:00<00:00, 6924.15it/s]\n",
      "loading word embeddings: 100%|██████████| 2449/2449 [00:00<00:00, 5919.49it/s]\n"
     ]
    },
    {
     "name": "stdout",
     "output_type": "stream",
     "text": [
      "2449\n"
     ]
    },
    {
     "name": "stderr",
     "output_type": "stream",
     "text": [
      "100%|██████████| 200/200 [00:04<00:00, 44.99it/s]\n"
     ]
    }
   ],
   "source": [
    "res = model.fit(octis_dataset)"
   ]
  },
  {
   "cell_type": "code",
   "execution_count": 30,
   "metadata": {},
   "outputs": [
    {
     "name": "stderr",
     "output_type": "stream",
     "text": [
      "100%|██████████| 2/2 [00:26<00:00, 13.01s/it]\n"
     ]
    }
   ],
   "source": [
    "evaluation_result = score_all(\n",
    "    dataset = octis_dataset,\n",
    "    tw_emb=tw_emb,\n",
    "    n_words=10,\n",
    "    result = {'topics': res[0], \n",
    "              \"topic-word-matrix\": res[1]},\n",
    ")"
   ]
  },
  {
   "cell_type": "code",
   "execution_count": 31,
   "metadata": {},
   "outputs": [
    {
     "data": {
      "text/plain": [
       "{'NPMI': 0.3165717173853347, 'WE_CO_PW': 0.21}"
      ]
     },
     "execution_count": 31,
     "metadata": {},
     "output_type": "execute_result"
    }
   ],
   "source": [
    "evaluation_result"
   ]
  },
  {
   "cell_type": "code",
   "execution_count": 32,
   "metadata": {},
   "outputs": [],
   "source": [
    "from TNTM.Benchmark.Benchmark import Benchmark"
   ]
  },
  {
   "cell_type": "code",
   "execution_count": 37,
   "metadata": {},
   "outputs": [],
   "source": [
    "bench = Benchmark(\n",
    "    octis_dataset = octis_dataset,\n",
    "    embedding_df = embedding_df,\n",
    "    models = [ProdLDA],\n",
    "    model_specific_data2params_fun_list = [data2params_prodlda],\n",
    "    n_topics = [10, 15],\n",
    "    batch_size = 256\n",
    ")"
   ]
  },
  {
   "cell_type": "code",
   "execution_count": 38,
   "metadata": {},
   "outputs": [
    {
     "name": "stderr",
     "output_type": "stream",
     "text": [
      "100%|██████████| 3350/3350 [00:40<00:00, 82.69it/s]\n",
      "100%|██████████| 48018/48018 [13:36<00:00, 58.84it/s]\n",
      "loading train texts: 100%|██████████| 100/100 [00:00<00:00, 1504.42it/s]\n",
      "parsing texts: 100%|██████████| 100/100 [00:00<00:00, 1757.97it/s]\n",
      "loading word embeddings: 100%|██████████| 2449/2449 [00:00<00:00, 3698.61it/s]\n"
     ]
    },
    {
     "name": "stdout",
     "output_type": "stream",
     "text": [
      "2449\n"
     ]
    },
    {
     "name": "stderr",
     "output_type": "stream",
     "text": [
      "100%|██████████| 200/200 [00:03<00:00, 58.45it/s]\n",
      "100%|██████████| 2/2 [00:32<00:00, 16.30s/it]\n"
     ]
    },
    {
     "name": "stdout",
     "output_type": "stream",
     "text": [
      "Done with model <class 'topmost.models.basic.ProdLDA.ProdLDA'> and n_topics 10\n"
     ]
    },
    {
     "name": "stderr",
     "output_type": "stream",
     "text": [
      "loading train texts: 100%|██████████| 100/100 [00:00<00:00, 3955.25it/s]\n",
      "parsing texts: 100%|██████████| 100/100 [00:00<00:00, 4427.08it/s]\n",
      "loading word embeddings: 100%|██████████| 2449/2449 [00:00<00:00, 3956.46it/s]\n"
     ]
    },
    {
     "name": "stdout",
     "output_type": "stream",
     "text": [
      "2449\n"
     ]
    },
    {
     "name": "stderr",
     "output_type": "stream",
     "text": [
      "100%|██████████| 200/200 [00:03<00:00, 59.75it/s]\n",
      "100%|██████████| 2/2 [00:34<00:00, 17.08s/it]\n",
      "100%|██████████| 1/1 [44:43<00:00, 2683.25s/it]"
     ]
    },
    {
     "name": "stdout",
     "output_type": "stream",
     "text": [
      "Done with model <class 'topmost.models.basic.ProdLDA.ProdLDA'> and n_topics 15\n"
     ]
    },
    {
     "name": "stderr",
     "output_type": "stream",
     "text": [
      "\n"
     ]
    }
   ],
   "source": [
    "r = bench.run()"
   ]
  },
  {
   "cell_type": "code",
   "execution_count": 39,
   "metadata": {},
   "outputs": [
    {
     "data": {
      "text/plain": [
       "[{'NPMI': 0.29702960186308736, 'WE_CO_PW': 0.21},\n",
       " {'NPMI': 0.3185537209523118, 'WE_CO_PW': 0.16}]"
      ]
     },
     "execution_count": 39,
     "metadata": {},
     "output_type": "execute_result"
    }
   ],
   "source": [
    "r"
   ]
  },
  {
   "cell_type": "code",
   "execution_count": null,
   "metadata": {},
   "outputs": [],
   "source": []
  }
 ],
 "metadata": {
  "kernelspec": {
   "display_name": "TLDA",
   "language": "python",
   "name": "python3"
  },
  "language_info": {
   "codemirror_mode": {
    "name": "ipython",
    "version": 3
   },
   "file_extension": ".py",
   "mimetype": "text/x-python",
   "name": "python",
   "nbconvert_exporter": "python",
   "pygments_lexer": "ipython3",
   "version": "3.9.13"
  }
 },
 "nbformat": 4,
 "nbformat_minor": 2
}
